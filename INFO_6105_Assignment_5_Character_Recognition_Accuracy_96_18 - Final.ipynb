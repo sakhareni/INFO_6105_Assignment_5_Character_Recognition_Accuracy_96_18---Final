{
  "metadata": {
    "kernelspec": {
      "language": "python",
      "display_name": "Python 3",
      "name": "python3"
    },
    "language_info": {
      "pygments_lexer": "ipython3",
      "nbconvert_exporter": "python",
      "version": "3.6.4",
      "file_extension": ".py",
      "codemirror_mode": {
        "name": "ipython",
        "version": 3
      },
      "name": "python",
      "mimetype": "text/x-python"
    },
    "colab": {
      "provenance": []
    }
  },
  "nbformat_minor": 0,
  "nbformat": 4,
  "cells": [
    {
      "cell_type": "markdown",
      "source": [
        "# **Abstract**"
      ],
      "metadata": {
        "execution": {
          "iopub.status.busy": "2023-04-16T23:11:21.326367Z",
          "iopub.execute_input": "2023-04-16T23:11:21.326803Z",
          "iopub.status.idle": "2023-04-16T23:11:31.709632Z",
          "shell.execute_reply.started": "2023-04-16T23:11:21.326764Z",
          "shell.execute_reply": "2023-04-16T23:11:31.708136Z"
        },
        "id": "C8Is0HJNyXCc"
      }
    },
    {
      "cell_type": "markdown",
      "source": [
        "\n",
        "In this notebook, the author delves into the construction of neural networks capable of identifying digits from the MNIST dataset, a cornerstone in the field of computer vision known for its extensive collection of handwritten digit images. While numerous deep learning platforms offer convenient APIs for accessing MNIST and similar datasets, these tools can sometimes veil the intricacies involved in data preparation for deep learning models.\n",
        "\n",
        "The emphasis here is on manipulating real-world data into a structure that is comprehensible by deep learning platforms. The narrative covers various methodologies for processing MNIST data to be compatible with deep learning tools like PyTorch or TensorFlow. This includes steps such as adjusting pixel values through scaling or normalization, transforming images into tensor or array formats, and segmenting the data into sets for training and validation.\n",
        "\n",
        "Furthermore, the notebook presents tangible examples to illustrate the process of readying MNIST data for use in a deep learning model, employing diverse strategies. This serves to enhance the reader’s comprehension of handling real-world data, aiming to equip them with the knowledge to effectively prepare a dataset for training within a deep learning environment."
      ],
      "metadata": {
        "id": "YhGEeIiOyXCd"
      }
    },
    {
      "source": [
        "\n",
        "import os\n",
        "import sys\n",
        "from tempfile import NamedTemporaryFile\n",
        "from urllib.request import urlopen\n",
        "from urllib.parse import unquote, urlparse\n",
        "from urllib.error import HTTPError\n",
        "from zipfile import ZipFile\n",
        "import tarfile\n",
        "import shutil\n",
        "\n",
        "CHUNK_SIZE = 40960\n",
        "DATA_SOURCE_MAPPING = 'tmnist-alphabet-94-characters:https%3A%2F%2Fstorage.googleapis.com%2Fkaggle-data-sets%2F1564532%2F2830968%2Fbundle%2Farchive.zip%3FX-Goog-Algorithm%3DGOOG4-RSA-SHA256%26X-Goog-Credential%3Dgcp-kaggle-com%2540kaggle-161607.iam.gserviceaccount.com%252F20240409%252Fauto%252Fstorage%252Fgoog4_request%26X-Goog-Date%3D20240409T213516Z%26X-Goog-Expires%3D259200%26X-Goog-SignedHeaders%3Dhost%26X-Goog-Signature%3Dcb8e44fd3676e87971d7cc7cb375303bb87ea94ed6df9f3f744e9368829e283a903f5ad48b5535db17583ebf95426916361ba686255c52f647836498f6491dc147f6ccceb7cd80bb8287d09e2718f2bfb88b3862b7153d58cc8d125bb770135dbf6d5e9112ba89cfa29197ce89b07921a7b89aee3e18b2df132d52a51ae2991078cfec041fcfe913ca52e21113a6b56d635f6bb7925c26d64c37391bbbb1797635157a60c9c58e824c0850810f16f087fb65fe9216612b2c81d22da1dd30897f9d17117b1357ab7614c0a764fb4de9c32ef514b820455f470013855bc353ec4b13ed0fea67d02721d64c31d61010c191341d02faa5e5016146686917b2d1e84c'\n",
        "\n",
        "KAGGLE_INPUT_PATH='/kaggle/input'\n",
        "KAGGLE_WORKING_PATH='/kaggle/working'\n",
        "KAGGLE_SYMLINK='kaggle'\n",
        "\n",
        "!umount /kaggle/input/ 2> /dev/null\n",
        "shutil.rmtree('/kaggle/input', ignore_errors=True)\n",
        "os.makedirs(KAGGLE_INPUT_PATH, 0o777, exist_ok=True)\n",
        "os.makedirs(KAGGLE_WORKING_PATH, 0o777, exist_ok=True)\n",
        "\n",
        "try:\n",
        "  os.symlink(KAGGLE_INPUT_PATH, os.path.join(\"..\", 'input'), target_is_directory=True)\n",
        "except FileExistsError:\n",
        "  pass\n",
        "try:\n",
        "  os.symlink(KAGGLE_WORKING_PATH, os.path.join(\"..\", 'working'), target_is_directory=True)\n",
        "except FileExistsError:\n",
        "  pass\n",
        "\n",
        "for data_source_mapping in DATA_SOURCE_MAPPING.split(','):\n",
        "    directory, download_url_encoded = data_source_mapping.split(':')\n",
        "    download_url = unquote(download_url_encoded)\n",
        "    filename = urlparse(download_url).path\n",
        "    destination_path = os.path.join(KAGGLE_INPUT_PATH, directory)\n",
        "    try:\n",
        "        with urlopen(download_url) as fileres, NamedTemporaryFile() as tfile:\n",
        "            total_length = fileres.headers['content-length']\n",
        "            print(f'Downloading {directory}, {total_length} bytes compressed')\n",
        "            dl = 0\n",
        "            data = fileres.read(CHUNK_SIZE)\n",
        "            while len(data) > 0:\n",
        "                dl += len(data)\n",
        "                tfile.write(data)\n",
        "                done = int(50 * dl / int(total_length))\n",
        "                sys.stdout.write(f\"\\r[{'=' * done}{' ' * (50-done)}] {dl} bytes downloaded\")\n",
        "                sys.stdout.flush()\n",
        "                data = fileres.read(CHUNK_SIZE)\n",
        "            if filename.endswith('.zip'):\n",
        "              with ZipFile(tfile) as zfile:\n",
        "                zfile.extractall(destination_path)\n",
        "            else:\n",
        "              with tarfile.open(tfile.name) as tarfile:\n",
        "                tarfile.extractall(destination_path)\n",
        "            print(f'\\nDownloaded and uncompressed: {directory}')\n",
        "    except HTTPError as e:\n",
        "        print(f'Failed to load (likely expired) {download_url} to path {destination_path}')\n",
        "        continue\n",
        "    except OSError as e:\n",
        "        print(f'Failed to load {download_url} to path {destination_path}')\n",
        "        continue\n",
        "\n",
        "print('Data source import complete.')\n"
      ],
      "metadata": {
        "id": "arBKZAFpyXCZ",
        "outputId": "f7f2cb9c-d87e-4391-b5c8-f43b4a026c90",
        "colab": {
          "base_uri": "https://localhost:8080/"
        }
      },
      "cell_type": "code",
      "outputs": [
        {
          "output_type": "stream",
          "name": "stdout",
          "text": [
            "Downloading tmnist-alphabet-94-characters, 88850214 bytes compressed\n",
            "[==================================================] 88850214 bytes downloaded\n",
            "Downloaded and uncompressed: tmnist-alphabet-94-characters\n",
            "Data source import complete.\n"
          ]
        }
      ],
      "execution_count": null
    },
    {
      "cell_type": "markdown",
      "source": [
        "**Importing Libraries**"
      ],
      "metadata": {
        "id": "7D_SjhCRyXCd"
      }
    },
    {
      "cell_type": "code",
      "source": [
        "import numpy as np\n",
        "import pandas as pd\n",
        "import matplotlib.pyplot as plt\n",
        "from sklearn.model_selection import train_test_split\n",
        "from sklearn.metrics import accuracy_score\n",
        "from tensorflow.keras.models import Sequential\n",
        "from tensorflow.keras.layers import Dense, Flatten, Conv2D, MaxPooling2D\n",
        "from tensorflow.keras.callbacks import EarlyStopping\n",
        "from sklearn.preprocessing import OneHotEncoder\n",
        "from sklearn.preprocessing import LabelEncoder#importing the libraries\n",
        "import tensorflow as tf\n",
        "from tensorflow.keras.models import Sequential\n",
        "from tensorflow.keras.layers import Dense, Conv2D, Flatten, MaxPooling2D\n",
        "from tensorflow.keras.utils import to_categorical\n",
        "\n",
        "from sklearn.model_selection import train_test_split\n",
        "from sklearn.preprocessing import LabelBinarizer\n",
        "from sklearn.utils import shuffle\n",
        "from tensorflow.keras.optimizers import Adam\n",
        "from sklearn.preprocessing import OneHotEncoder\n",
        "\n",
        "import matplotlib.pyplot as plt\n",
        "%matplotlib inline\n",
        "import numpy as np\n",
        "import pandas as pd\n",
        "import warnings\n",
        "warnings.filterwarnings(\"ignore\")"
      ],
      "metadata": {
        "execution": {
          "iopub.status.busy": "2023-04-16T23:11:21.326367Z",
          "iopub.execute_input": "2023-04-16T23:11:21.326803Z",
          "iopub.status.idle": "2023-04-16T23:11:31.709632Z",
          "shell.execute_reply.started": "2023-04-16T23:11:21.326764Z",
          "shell.execute_reply": "2023-04-16T23:11:31.708136Z"
        },
        "trusted": true,
        "id": "SQqw_g2GyXCd"
      },
      "execution_count": null,
      "outputs": []
    },
    {
      "cell_type": "markdown",
      "source": [
        "**Importing the Dataset**"
      ],
      "metadata": {
        "id": "n77PG8jYyXCd"
      }
    },
    {
      "cell_type": "code",
      "source": [
        "\n",
        "dataset = \"/kaggle/input/tmnist-alphabet-94-characters/94_character_TMNIST.csv\"\n",
        "df = pd.read_csv(dataset)"
      ],
      "metadata": {
        "execution": {
          "iopub.status.busy": "2023-04-16T23:11:45.867966Z",
          "iopub.execute_input": "2023-04-16T23:11:45.86896Z",
          "iopub.status.idle": "2023-04-16T23:12:23.618084Z",
          "shell.execute_reply.started": "2023-04-16T23:11:45.868915Z",
          "shell.execute_reply": "2023-04-16T23:12:23.616729Z"
        },
        "trusted": true,
        "id": "YB5PlqYGyXCe"
      },
      "execution_count": null,
      "outputs": []
    },
    {
      "cell_type": "code",
      "source": [
        "df.head()"
      ],
      "metadata": {
        "execution": {
          "iopub.status.busy": "2023-04-16T23:13:48.485335Z",
          "iopub.execute_input": "2023-04-16T23:13:48.485933Z",
          "iopub.status.idle": "2023-04-16T23:13:48.554574Z",
          "shell.execute_reply.started": "2023-04-16T23:13:48.485885Z",
          "shell.execute_reply": "2023-04-16T23:13:48.55312Z"
        },
        "trusted": true,
        "id": "0M3A_J8wyXCe",
        "outputId": "266a6ef1-53b3-4f34-8302-07b7ca03f1dc",
        "colab": {
          "base_uri": "https://localhost:8080/",
          "height": 235
        }
      },
      "execution_count": null,
      "outputs": [
        {
          "output_type": "execute_result",
          "data": {
            "text/plain": [
              "                  names labels    1    2    3    4    5    6    7    8  ...  \\\n",
              "0         Salsa-Regular      6  0.0  0.0  0.0  0.0  0.0  0.0  0.0  0.0  ...   \n",
              "1  MouseMemoirs-Regular      D  0.0  0.0  0.0  0.0  0.0  0.0  0.0  0.0  ...   \n",
              "2     Creepster-Regular      f  0.0  0.0  0.0  0.0  0.0  0.0  0.0  0.0  ...   \n",
              "3     SeoulNamsan-Light      /  0.0  0.0  0.0  0.0  0.0  0.0  0.0  0.0  ...   \n",
              "4  HachiMaruPop-Regular      F  0.0  0.0  0.0  0.0  0.0  0.0  0.0  0.0  ...   \n",
              "\n",
              "   775  776  777  778  779  780  781  782  783  784  \n",
              "0  0.0  0.0  0.0  0.0  0.0  0.0  0.0  0.0  0.0  0.0  \n",
              "1  0.0  0.0  0.0  0.0  0.0  0.0  0.0  0.0  0.0  0.0  \n",
              "2  0.0  0.0  0.0  0.0  0.0  0.0  0.0  0.0  0.0  0.0  \n",
              "3  0.0  0.0  0.0  0.0  0.0  0.0  0.0  0.0  0.0  0.0  \n",
              "4  0.0  0.0  0.0  0.0  0.0  0.0  0.0  0.0  0.0  0.0  \n",
              "\n",
              "[5 rows x 786 columns]"
            ],
            "text/html": [
              "\n",
              "  <div id=\"df-7d2c9c04-ae34-49a1-9c7f-3f214393cc19\" class=\"colab-df-container\">\n",
              "    <div>\n",
              "<style scoped>\n",
              "    .dataframe tbody tr th:only-of-type {\n",
              "        vertical-align: middle;\n",
              "    }\n",
              "\n",
              "    .dataframe tbody tr th {\n",
              "        vertical-align: top;\n",
              "    }\n",
              "\n",
              "    .dataframe thead th {\n",
              "        text-align: right;\n",
              "    }\n",
              "</style>\n",
              "<table border=\"1\" class=\"dataframe\">\n",
              "  <thead>\n",
              "    <tr style=\"text-align: right;\">\n",
              "      <th></th>\n",
              "      <th>names</th>\n",
              "      <th>labels</th>\n",
              "      <th>1</th>\n",
              "      <th>2</th>\n",
              "      <th>3</th>\n",
              "      <th>4</th>\n",
              "      <th>5</th>\n",
              "      <th>6</th>\n",
              "      <th>7</th>\n",
              "      <th>8</th>\n",
              "      <th>...</th>\n",
              "      <th>775</th>\n",
              "      <th>776</th>\n",
              "      <th>777</th>\n",
              "      <th>778</th>\n",
              "      <th>779</th>\n",
              "      <th>780</th>\n",
              "      <th>781</th>\n",
              "      <th>782</th>\n",
              "      <th>783</th>\n",
              "      <th>784</th>\n",
              "    </tr>\n",
              "  </thead>\n",
              "  <tbody>\n",
              "    <tr>\n",
              "      <th>0</th>\n",
              "      <td>Salsa-Regular</td>\n",
              "      <td>6</td>\n",
              "      <td>0.0</td>\n",
              "      <td>0.0</td>\n",
              "      <td>0.0</td>\n",
              "      <td>0.0</td>\n",
              "      <td>0.0</td>\n",
              "      <td>0.0</td>\n",
              "      <td>0.0</td>\n",
              "      <td>0.0</td>\n",
              "      <td>...</td>\n",
              "      <td>0.0</td>\n",
              "      <td>0.0</td>\n",
              "      <td>0.0</td>\n",
              "      <td>0.0</td>\n",
              "      <td>0.0</td>\n",
              "      <td>0.0</td>\n",
              "      <td>0.0</td>\n",
              "      <td>0.0</td>\n",
              "      <td>0.0</td>\n",
              "      <td>0.0</td>\n",
              "    </tr>\n",
              "    <tr>\n",
              "      <th>1</th>\n",
              "      <td>MouseMemoirs-Regular</td>\n",
              "      <td>D</td>\n",
              "      <td>0.0</td>\n",
              "      <td>0.0</td>\n",
              "      <td>0.0</td>\n",
              "      <td>0.0</td>\n",
              "      <td>0.0</td>\n",
              "      <td>0.0</td>\n",
              "      <td>0.0</td>\n",
              "      <td>0.0</td>\n",
              "      <td>...</td>\n",
              "      <td>0.0</td>\n",
              "      <td>0.0</td>\n",
              "      <td>0.0</td>\n",
              "      <td>0.0</td>\n",
              "      <td>0.0</td>\n",
              "      <td>0.0</td>\n",
              "      <td>0.0</td>\n",
              "      <td>0.0</td>\n",
              "      <td>0.0</td>\n",
              "      <td>0.0</td>\n",
              "    </tr>\n",
              "    <tr>\n",
              "      <th>2</th>\n",
              "      <td>Creepster-Regular</td>\n",
              "      <td>f</td>\n",
              "      <td>0.0</td>\n",
              "      <td>0.0</td>\n",
              "      <td>0.0</td>\n",
              "      <td>0.0</td>\n",
              "      <td>0.0</td>\n",
              "      <td>0.0</td>\n",
              "      <td>0.0</td>\n",
              "      <td>0.0</td>\n",
              "      <td>...</td>\n",
              "      <td>0.0</td>\n",
              "      <td>0.0</td>\n",
              "      <td>0.0</td>\n",
              "      <td>0.0</td>\n",
              "      <td>0.0</td>\n",
              "      <td>0.0</td>\n",
              "      <td>0.0</td>\n",
              "      <td>0.0</td>\n",
              "      <td>0.0</td>\n",
              "      <td>0.0</td>\n",
              "    </tr>\n",
              "    <tr>\n",
              "      <th>3</th>\n",
              "      <td>SeoulNamsan-Light</td>\n",
              "      <td>/</td>\n",
              "      <td>0.0</td>\n",
              "      <td>0.0</td>\n",
              "      <td>0.0</td>\n",
              "      <td>0.0</td>\n",
              "      <td>0.0</td>\n",
              "      <td>0.0</td>\n",
              "      <td>0.0</td>\n",
              "      <td>0.0</td>\n",
              "      <td>...</td>\n",
              "      <td>0.0</td>\n",
              "      <td>0.0</td>\n",
              "      <td>0.0</td>\n",
              "      <td>0.0</td>\n",
              "      <td>0.0</td>\n",
              "      <td>0.0</td>\n",
              "      <td>0.0</td>\n",
              "      <td>0.0</td>\n",
              "      <td>0.0</td>\n",
              "      <td>0.0</td>\n",
              "    </tr>\n",
              "    <tr>\n",
              "      <th>4</th>\n",
              "      <td>HachiMaruPop-Regular</td>\n",
              "      <td>F</td>\n",
              "      <td>0.0</td>\n",
              "      <td>0.0</td>\n",
              "      <td>0.0</td>\n",
              "      <td>0.0</td>\n",
              "      <td>0.0</td>\n",
              "      <td>0.0</td>\n",
              "      <td>0.0</td>\n",
              "      <td>0.0</td>\n",
              "      <td>...</td>\n",
              "      <td>0.0</td>\n",
              "      <td>0.0</td>\n",
              "      <td>0.0</td>\n",
              "      <td>0.0</td>\n",
              "      <td>0.0</td>\n",
              "      <td>0.0</td>\n",
              "      <td>0.0</td>\n",
              "      <td>0.0</td>\n",
              "      <td>0.0</td>\n",
              "      <td>0.0</td>\n",
              "    </tr>\n",
              "  </tbody>\n",
              "</table>\n",
              "<p>5 rows × 786 columns</p>\n",
              "</div>\n",
              "    <div class=\"colab-df-buttons\">\n",
              "\n",
              "  <div class=\"colab-df-container\">\n",
              "    <button class=\"colab-df-convert\" onclick=\"convertToInteractive('df-7d2c9c04-ae34-49a1-9c7f-3f214393cc19')\"\n",
              "            title=\"Convert this dataframe to an interactive table.\"\n",
              "            style=\"display:none;\">\n",
              "\n",
              "  <svg xmlns=\"http://www.w3.org/2000/svg\" height=\"24px\" viewBox=\"0 -960 960 960\">\n",
              "    <path d=\"M120-120v-720h720v720H120Zm60-500h600v-160H180v160Zm220 220h160v-160H400v160Zm0 220h160v-160H400v160ZM180-400h160v-160H180v160Zm440 0h160v-160H620v160ZM180-180h160v-160H180v160Zm440 0h160v-160H620v160Z\"/>\n",
              "  </svg>\n",
              "    </button>\n",
              "\n",
              "  <style>\n",
              "    .colab-df-container {\n",
              "      display:flex;\n",
              "      gap: 12px;\n",
              "    }\n",
              "\n",
              "    .colab-df-convert {\n",
              "      background-color: #E8F0FE;\n",
              "      border: none;\n",
              "      border-radius: 50%;\n",
              "      cursor: pointer;\n",
              "      display: none;\n",
              "      fill: #1967D2;\n",
              "      height: 32px;\n",
              "      padding: 0 0 0 0;\n",
              "      width: 32px;\n",
              "    }\n",
              "\n",
              "    .colab-df-convert:hover {\n",
              "      background-color: #E2EBFA;\n",
              "      box-shadow: 0px 1px 2px rgba(60, 64, 67, 0.3), 0px 1px 3px 1px rgba(60, 64, 67, 0.15);\n",
              "      fill: #174EA6;\n",
              "    }\n",
              "\n",
              "    .colab-df-buttons div {\n",
              "      margin-bottom: 4px;\n",
              "    }\n",
              "\n",
              "    [theme=dark] .colab-df-convert {\n",
              "      background-color: #3B4455;\n",
              "      fill: #D2E3FC;\n",
              "    }\n",
              "\n",
              "    [theme=dark] .colab-df-convert:hover {\n",
              "      background-color: #434B5C;\n",
              "      box-shadow: 0px 1px 3px 1px rgba(0, 0, 0, 0.15);\n",
              "      filter: drop-shadow(0px 1px 2px rgba(0, 0, 0, 0.3));\n",
              "      fill: #FFFFFF;\n",
              "    }\n",
              "  </style>\n",
              "\n",
              "    <script>\n",
              "      const buttonEl =\n",
              "        document.querySelector('#df-7d2c9c04-ae34-49a1-9c7f-3f214393cc19 button.colab-df-convert');\n",
              "      buttonEl.style.display =\n",
              "        google.colab.kernel.accessAllowed ? 'block' : 'none';\n",
              "\n",
              "      async function convertToInteractive(key) {\n",
              "        const element = document.querySelector('#df-7d2c9c04-ae34-49a1-9c7f-3f214393cc19');\n",
              "        const dataTable =\n",
              "          await google.colab.kernel.invokeFunction('convertToInteractive',\n",
              "                                                    [key], {});\n",
              "        if (!dataTable) return;\n",
              "\n",
              "        const docLinkHtml = 'Like what you see? Visit the ' +\n",
              "          '<a target=\"_blank\" href=https://colab.research.google.com/notebooks/data_table.ipynb>data table notebook</a>'\n",
              "          + ' to learn more about interactive tables.';\n",
              "        element.innerHTML = '';\n",
              "        dataTable['output_type'] = 'display_data';\n",
              "        await google.colab.output.renderOutput(dataTable, element);\n",
              "        const docLink = document.createElement('div');\n",
              "        docLink.innerHTML = docLinkHtml;\n",
              "        element.appendChild(docLink);\n",
              "      }\n",
              "    </script>\n",
              "  </div>\n",
              "\n",
              "\n",
              "<div id=\"df-12777b8e-065a-4895-8562-dfdb3f74f594\">\n",
              "  <button class=\"colab-df-quickchart\" onclick=\"quickchart('df-12777b8e-065a-4895-8562-dfdb3f74f594')\"\n",
              "            title=\"Suggest charts\"\n",
              "            style=\"display:none;\">\n",
              "\n",
              "<svg xmlns=\"http://www.w3.org/2000/svg\" height=\"24px\"viewBox=\"0 0 24 24\"\n",
              "     width=\"24px\">\n",
              "    <g>\n",
              "        <path d=\"M19 3H5c-1.1 0-2 .9-2 2v14c0 1.1.9 2 2 2h14c1.1 0 2-.9 2-2V5c0-1.1-.9-2-2-2zM9 17H7v-7h2v7zm4 0h-2V7h2v10zm4 0h-2v-4h2v4z\"/>\n",
              "    </g>\n",
              "</svg>\n",
              "  </button>\n",
              "\n",
              "<style>\n",
              "  .colab-df-quickchart {\n",
              "      --bg-color: #E8F0FE;\n",
              "      --fill-color: #1967D2;\n",
              "      --hover-bg-color: #E2EBFA;\n",
              "      --hover-fill-color: #174EA6;\n",
              "      --disabled-fill-color: #AAA;\n",
              "      --disabled-bg-color: #DDD;\n",
              "  }\n",
              "\n",
              "  [theme=dark] .colab-df-quickchart {\n",
              "      --bg-color: #3B4455;\n",
              "      --fill-color: #D2E3FC;\n",
              "      --hover-bg-color: #434B5C;\n",
              "      --hover-fill-color: #FFFFFF;\n",
              "      --disabled-bg-color: #3B4455;\n",
              "      --disabled-fill-color: #666;\n",
              "  }\n",
              "\n",
              "  .colab-df-quickchart {\n",
              "    background-color: var(--bg-color);\n",
              "    border: none;\n",
              "    border-radius: 50%;\n",
              "    cursor: pointer;\n",
              "    display: none;\n",
              "    fill: var(--fill-color);\n",
              "    height: 32px;\n",
              "    padding: 0;\n",
              "    width: 32px;\n",
              "  }\n",
              "\n",
              "  .colab-df-quickchart:hover {\n",
              "    background-color: var(--hover-bg-color);\n",
              "    box-shadow: 0 1px 2px rgba(60, 64, 67, 0.3), 0 1px 3px 1px rgba(60, 64, 67, 0.15);\n",
              "    fill: var(--button-hover-fill-color);\n",
              "  }\n",
              "\n",
              "  .colab-df-quickchart-complete:disabled,\n",
              "  .colab-df-quickchart-complete:disabled:hover {\n",
              "    background-color: var(--disabled-bg-color);\n",
              "    fill: var(--disabled-fill-color);\n",
              "    box-shadow: none;\n",
              "  }\n",
              "\n",
              "  .colab-df-spinner {\n",
              "    border: 2px solid var(--fill-color);\n",
              "    border-color: transparent;\n",
              "    border-bottom-color: var(--fill-color);\n",
              "    animation:\n",
              "      spin 1s steps(1) infinite;\n",
              "  }\n",
              "\n",
              "  @keyframes spin {\n",
              "    0% {\n",
              "      border-color: transparent;\n",
              "      border-bottom-color: var(--fill-color);\n",
              "      border-left-color: var(--fill-color);\n",
              "    }\n",
              "    20% {\n",
              "      border-color: transparent;\n",
              "      border-left-color: var(--fill-color);\n",
              "      border-top-color: var(--fill-color);\n",
              "    }\n",
              "    30% {\n",
              "      border-color: transparent;\n",
              "      border-left-color: var(--fill-color);\n",
              "      border-top-color: var(--fill-color);\n",
              "      border-right-color: var(--fill-color);\n",
              "    }\n",
              "    40% {\n",
              "      border-color: transparent;\n",
              "      border-right-color: var(--fill-color);\n",
              "      border-top-color: var(--fill-color);\n",
              "    }\n",
              "    60% {\n",
              "      border-color: transparent;\n",
              "      border-right-color: var(--fill-color);\n",
              "    }\n",
              "    80% {\n",
              "      border-color: transparent;\n",
              "      border-right-color: var(--fill-color);\n",
              "      border-bottom-color: var(--fill-color);\n",
              "    }\n",
              "    90% {\n",
              "      border-color: transparent;\n",
              "      border-bottom-color: var(--fill-color);\n",
              "    }\n",
              "  }\n",
              "</style>\n",
              "\n",
              "  <script>\n",
              "    async function quickchart(key) {\n",
              "      const quickchartButtonEl =\n",
              "        document.querySelector('#' + key + ' button');\n",
              "      quickchartButtonEl.disabled = true;  // To prevent multiple clicks.\n",
              "      quickchartButtonEl.classList.add('colab-df-spinner');\n",
              "      try {\n",
              "        const charts = await google.colab.kernel.invokeFunction(\n",
              "            'suggestCharts', [key], {});\n",
              "      } catch (error) {\n",
              "        console.error('Error during call to suggestCharts:', error);\n",
              "      }\n",
              "      quickchartButtonEl.classList.remove('colab-df-spinner');\n",
              "      quickchartButtonEl.classList.add('colab-df-quickchart-complete');\n",
              "    }\n",
              "    (() => {\n",
              "      let quickchartButtonEl =\n",
              "        document.querySelector('#df-12777b8e-065a-4895-8562-dfdb3f74f594 button');\n",
              "      quickchartButtonEl.style.display =\n",
              "        google.colab.kernel.accessAllowed ? 'block' : 'none';\n",
              "    })();\n",
              "  </script>\n",
              "</div>\n",
              "\n",
              "    </div>\n",
              "  </div>\n"
            ],
            "application/vnd.google.colaboratory.intrinsic+json": {
              "type": "dataframe",
              "variable_name": "df"
            }
          },
          "metadata": {},
          "execution_count": 4
        }
      ]
    },
    {
      "cell_type": "markdown",
      "source": [
        "**Dataset Characteristics**"
      ],
      "metadata": {
        "id": "UtCdRmTyyXCe"
      }
    },
    {
      "cell_type": "code",
      "source": [
        "print(f\"The Shape of the Dataset is: {df.shape}\")\n",
        "print(f\"The Number of Samples: {df.shape[0]}\")\n",
        "print(f\"The Number of Features: {df.shape[1]}\")"
      ],
      "metadata": {
        "execution": {
          "iopub.status.busy": "2023-04-16T23:13:53.178673Z",
          "iopub.execute_input": "2023-04-16T23:13:53.179226Z",
          "iopub.status.idle": "2023-04-16T23:13:53.187111Z",
          "shell.execute_reply.started": "2023-04-16T23:13:53.179179Z",
          "shell.execute_reply": "2023-04-16T23:13:53.185756Z"
        },
        "trusted": true,
        "id": "Y6a8Xl6pyXCe",
        "outputId": "6ba81fcd-c2e4-45d6-de21-f810837439f3",
        "colab": {
          "base_uri": "https://localhost:8080/"
        }
      },
      "execution_count": null,
      "outputs": [
        {
          "output_type": "stream",
          "name": "stdout",
          "text": [
            "The Shape of the Dataset is: (274093, 786)\n",
            "The Number of Samples: 274093\n",
            "The Number of Features: 786\n"
          ]
        }
      ]
    },
    {
      "cell_type": "code",
      "source": [
        "num_of_unique_chars = len(df.labels.unique())\n",
        "print(f\"The Number of unique character present in the Dataset: {num_of_unique_chars}\")"
      ],
      "metadata": {
        "execution": {
          "iopub.status.busy": "2023-04-16T23:13:57.508092Z",
          "iopub.execute_input": "2023-04-16T23:13:57.508522Z",
          "iopub.status.idle": "2023-04-16T23:13:57.541611Z",
          "shell.execute_reply.started": "2023-04-16T23:13:57.508486Z",
          "shell.execute_reply": "2023-04-16T23:13:57.540133Z"
        },
        "trusted": true,
        "id": "y7PWt6vbyXCe",
        "outputId": "ad5061f9-9ff8-4d77-927d-8c16101acd84",
        "colab": {
          "base_uri": "https://localhost:8080/"
        }
      },
      "execution_count": null,
      "outputs": [
        {
          "output_type": "stream",
          "name": "stdout",
          "text": [
            "The Number of unique character present in the Dataset: 94\n"
          ]
        }
      ]
    },
    {
      "cell_type": "markdown",
      "source": [
        "**Displaying All Unique Characters**"
      ],
      "metadata": {
        "id": "Zn8IiM09yXCf"
      }
    },
    {
      "cell_type": "code",
      "source": [
        "\n",
        "all_unique_chars = df['labels'].unique().tolist()\n",
        "print(all_unique_chars)"
      ],
      "metadata": {
        "execution": {
          "iopub.status.busy": "2023-04-16T23:14:04.029888Z",
          "iopub.execute_input": "2023-04-16T23:14:04.030315Z",
          "iopub.status.idle": "2023-04-16T23:14:04.055244Z",
          "shell.execute_reply.started": "2023-04-16T23:14:04.030279Z",
          "shell.execute_reply": "2023-04-16T23:14:04.053687Z"
        },
        "trusted": true,
        "id": "vTuahFLZyXCf",
        "outputId": "474b79ad-350e-41fb-bdf9-e5676e0741c2",
        "colab": {
          "base_uri": "https://localhost:8080/"
        }
      },
      "execution_count": null,
      "outputs": [
        {
          "output_type": "stream",
          "name": "stdout",
          "text": [
            "['6', 'D', 'f', '/', 'F', 'x', 'J', '8', 'H', 'k', '@', '1', '=', 'g', ')', '2', 'd', '^', '3', 't', '#', '.', '4', 'o', '\"', 'y', 'A', 'u', 'G', '-', 'm', 'W', '&', 'c', '9', 'N', ']', 'P', 'X', '|', '}', 'h', '7', 'j', '5', '>', '?', 'b', '*', 'w', 'l', '0', '$', 'I', 'Y', '%', ':', 'T', 'K', 'E', '<', 'V', '{', 'M', 'S', 'a', 'i', 'r', \"'\", 'p', ';', '[', '+', 'e', 'U', '(', 's', '~', ',', 'C', 'q', '_', 'n', 'B', 'z', 'v', 'O', 'R', '`', 'Z', 'Q', 'L', '!', '\\\\']\n"
          ]
        }
      ]
    },
    {
      "cell_type": "markdown",
      "source": [
        "**Dropping redundant columns (names and labels), keeping only pixel values**"
      ],
      "metadata": {
        "id": "slUl9vxkyXCf"
      }
    },
    {
      "cell_type": "code",
      "source": [
        "\n",
        "X = df.drop(columns=['names','labels']).values\n",
        "y = df[['labels']].values # Assigning Classes to it\n"
      ],
      "metadata": {
        "execution": {
          "iopub.status.busy": "2023-04-16T23:14:07.435055Z",
          "iopub.execute_input": "2023-04-16T23:14:07.435461Z",
          "iopub.status.idle": "2023-04-16T23:14:08.118623Z",
          "shell.execute_reply.started": "2023-04-16T23:14:07.435428Z",
          "shell.execute_reply": "2023-04-16T23:14:08.117341Z"
        },
        "trusted": true,
        "id": "OeC0Z0hHyXCf"
      },
      "execution_count": null,
      "outputs": []
    },
    {
      "cell_type": "markdown",
      "source": [
        "**Converting NumPy array to Pandas Dataframe for easy  processing of downstream and triaging**"
      ],
      "metadata": {
        "id": "lxfRjDAyyXCf"
      }
    },
    {
      "cell_type": "code",
      "source": [
        "\n",
        "df_x = pd.DataFrame(X)\n",
        "df_y = pd.DataFrame(y)\n",
        "\n"
      ],
      "metadata": {
        "execution": {
          "iopub.status.busy": "2023-04-16T23:14:13.117867Z",
          "iopub.execute_input": "2023-04-16T23:14:13.118786Z",
          "iopub.status.idle": "2023-04-16T23:14:13.125595Z",
          "shell.execute_reply.started": "2023-04-16T23:14:13.11873Z",
          "shell.execute_reply": "2023-04-16T23:14:13.124129Z"
        },
        "trusted": true,
        "id": "Rn29-kQ0yXCf"
      },
      "execution_count": null,
      "outputs": []
    },
    {
      "cell_type": "markdown",
      "source": [
        "**Showing the Sample reshaped characters of the dataset**"
      ],
      "metadata": {
        "id": "BxcvaZvvyXCg"
      }
    },
    {
      "cell_type": "code",
      "source": [
        "x_images = X.reshape(-1,28,28)\n",
        "\n",
        "fig, axs = plt.subplots(nrows=3, ncols=4, figsize=(10, 10))\n",
        "axs = axs.flatten()\n",
        "\n",
        "for img, ax in zip(x_images[:12], axs):\n",
        "    ax.imshow(img, cmap='gray')\n",
        "    ax.axis('off')\n",
        "\n",
        "plt.tight_layout()\n",
        "plt.show()\n"
      ],
      "metadata": {
        "execution": {
          "iopub.status.busy": "2023-04-16T23:14:16.458702Z",
          "iopub.execute_input": "2023-04-16T23:14:16.459153Z",
          "iopub.status.idle": "2023-04-16T23:14:17.302482Z",
          "shell.execute_reply.started": "2023-04-16T23:14:16.459115Z",
          "shell.execute_reply": "2023-04-16T23:14:17.301092Z"
        },
        "trusted": true,
        "id": "PTPVp5lxyXCg",
        "outputId": "bbe08cf3-238c-4d34-bd98-5e163bb51ebc",
        "colab": {
          "base_uri": "https://localhost:8080/",
          "height": 886
        }
      },
      "execution_count": null,
      "outputs": [
        {
          "output_type": "display_data",
          "data": {
            "text/plain": [
              "<Figure size 1000x1000 with 12 Axes>"
            ],
            "image/png": "[encoded data removed]"
          },
          "metadata": {}
        }
      ]
    },
    {
      "cell_type": "markdown",
      "source": [
        "## Dataset Overview and Model Architecture\n",
        "\n",
        "### Dataset Composition\n",
        "\n",
        "The dataset encompasses a diverse range of characters, including:\n",
        "- Uppercase letters (A-Z)\n",
        "- Lowercase letters (a-z)\n",
        "- Numerals (0-9)\n",
        "- Special characters (e.g., `@`, `=`)\n",
        "\n",
        "### Objective\n",
        "\n",
        "In this notebook, we aim to classify images from the TMNIST dataset using a Convolutional Neural Network (CNN). CNNs are renowned for their efficacy in image classification tasks due to their proficiency in pattern recognition, applicable in various domains like facial recognition, autonomous vehicles, and the fashion industry.\n",
        "\n",
        "### Model Framework and Architecture\n",
        "\n",
        "We will employ the Keras library with a TensorFlow backend to construct a 2D CNN tailored for digit recognition. The development process includes:\n",
        "\n",
        "- **Preparing the dataset**: Formatting and normalizing the data to ensure it's suitable for use in our CNN.\n",
        "- **Building the model**: Assembling the layers to form the CNN architecture.\n",
        "- **Compiling the model**: Setting up the model with appropriate loss functions, optimizers, and metrics.\n",
        "- **Training and evaluating the model**: Running the dataset through the model to learn and then assessing its performance.\n",
        "\n",
        "#### Architectural Details\n",
        "\n",
        "The CNN will have the following structure:\n",
        "\n",
        "- **Feature Extraction Front End**:\n",
        "  - **Convolutional Layers**: Two layers, each employing multiple filters to extract varied features from the input images, like straight lines, curves, and circles.\n",
        "  - **Pooling Layer**: Reduces dimensionality of the data after convolution, retaining significant features while discarding irrelevant details.\n",
        "\n",
        "- **Classification Back End**:\n",
        "  - **Fully Connected Layer**: Integrates features from the convolutional and pooling layers to begin the classification process.\n",
        "  - **Softmax Layer**: Outputs probabilities for each class, facilitating the final digit recognition task.\n",
        "\n",
        "This architecture is designed to systematically identify and classify patterns within the TMNIST images, leading to accurate digit recognition.\n"
      ],
      "metadata": {
        "id": "TsjodJ9lyXCg"
      }
    },
    {
      "cell_type": "markdown",
      "source": [
        "## Understanding CNN Hyperparameters\n",
        "\n",
        "Having discussed the various layers constituting a Convolutional Neural Network (CNN), we now shift focus to the hyperparameters that influence the output dimensions. These parameters play a crucial role in shaping the network's learning capabilities and performance.\n",
        "\n",
        "### Key Hyperparameters\n",
        "\n",
        "1. **Depth**\n",
        "   - Represents the number of filters in a convolution layer.\n",
        "   - Each filter detects different features from the input image, so more filters can capture more complex patterns.\n",
        "\n",
        "2. **Stride**\n",
        "   - Dictates the movement of the filter across the image.\n",
        "   - A stride of 1 moves the filter one pixel at a time, while a stride of 2 moves it two pixels at a time, and so on.\n",
        "   - Affects the size of the output feature map: larger strides result in smaller output dimensions.\n",
        "\n",
        "3. **Padding**\n",
        "   - Involves adding zeros around the perimeter of the input image before applying the convolution operation.\n",
        "   - Helps maintain the spatial dimensions of the output, allowing the network to better learn and retain spatial hierarchies in the input data.\n",
        "   - Can be viewed as enclosing the image in a zero-valued border, which ensures that the edge information is not lost during convolution.\n",
        "\n",
        "### Impact on Output Size\n",
        "\n",
        "These hyperparameters are essential for controlling the output size of the convolution layers. By adjusting the depth, stride, and padding, one can fine-tune the network to better capture the intricacies of the input data, ensuring that the model is neither too complex (leading to overfitting) nor too simplistic (resulting in underfitting).\n",
        "\n",
        "In summary, understanding and carefully setting these hyperparameters allows for the optimization of the CNN architecture, balancing between capturing detailed features and maintaining computational efficiency.\n"
      ],
      "metadata": {
        "id": "DHa4mNgOyXCg"
      }
    },
    {
      "cell_type": "markdown",
      "source": [
        "## Hyperparameter Compatibility and Layer Transformation in CNNs\n",
        "\n",
        "### Hyperparameter Compatibility\n",
        "\n",
        "To ensure the effective operation of a CNN, the hyperparameters must align correctly with the input dimensions of the pooling layer. This alignment can be verified through the following equation:\n",
        "\n",
        "$$\n",
        "\\frac{W - F + 2P}{S} + 1\n",
        "$$\n",
        "\n",
        "where:\n",
        "- \\(W\\) is the size of the input volume,\n",
        "- \\(F\\) represents the neuron's dimension in the convolutional layer,\n",
        "- \\(S\\) stands for the stride length, and\n",
        "- \\(P\\) denotes the padding amount.\n",
        "\n",
        "A result that is an integer from this calculation signifies that the chosen hyperparameters are in harmony, ensuring the network functions as intended.\n",
        "\n",
        "### Flatten and Dense Layers Transformation\n",
        "\n",
        "The transformation process within CNNs involves Flatten and Dense layers, which are crucial for preparing the feature maps for classification. Specifically:\n",
        "\n",
        "- The **Flatten layer** takes a multi-dimensional layer (e.g., a \\(10 \\times 10 \\times 2\\) matrix) and transforms it into a one-dimensional array, resulting in 200 units in this case.\n",
        "- The **Dense layers** then utilize this flattened output, applying further classification processes to derive the final predictions.\n",
        "\n",
        "### Activation Functions\n",
        "\n",
        "CNNs employ the same activation functions as Dense Neural Networks. These functions are integral to the network, introducing non-linearity to the model and enabling it to learn complex patterns in the data.\n",
        "\n",
        "In essence, understanding the relationship between hyperparameters and layer inputs, along with the role of Flatten and Dense layers, is crucial for crafting effective CNN architectures. These elements together facilitate the accurate classification of input data.\n"
      ],
      "metadata": {
        "id": "pu4_5oGpyXCg"
      }
    },
    {
      "cell_type": "markdown",
      "source": [
        "**Spliting the dataset into training and testing sets, with an 80-20 split**"
      ],
      "metadata": {
        "id": "fAgN6aTLyXCh"
      }
    },
    {
      "cell_type": "code",
      "source": [
        "\n",
        "X_train, X_test, y_train, y_test = train_test_split(df_x, df_y, test_size=0.2)"
      ],
      "metadata": {
        "execution": {
          "iopub.status.busy": "2023-04-16T23:14:29.486584Z",
          "iopub.execute_input": "2023-04-16T23:14:29.486998Z",
          "iopub.status.idle": "2023-04-16T23:14:31.710643Z",
          "shell.execute_reply.started": "2023-04-16T23:14:29.486962Z",
          "shell.execute_reply": "2023-04-16T23:14:31.708832Z"
        },
        "trusted": true,
        "id": "2DVP57-RyXCh"
      },
      "execution_count": null,
      "outputs": []
    },
    {
      "cell_type": "markdown",
      "source": [
        "**Shape of training data**"
      ],
      "metadata": {
        "id": "kEf6ikhOyXCh"
      }
    },
    {
      "cell_type": "code",
      "source": [
        "\n",
        "print('X:Train, Test data shape: {}, {}'.format(X_train.shape, X_test.shape))\n",
        "print('Y:Train, Test data shape: {}, {}'.format(y_train.shape, y_test.shape))\n"
      ],
      "metadata": {
        "execution": {
          "iopub.status.busy": "2023-04-16T23:14:43.384359Z",
          "iopub.execute_input": "2023-04-16T23:14:43.384787Z",
          "iopub.status.idle": "2023-04-16T23:14:43.392125Z",
          "shell.execute_reply.started": "2023-04-16T23:14:43.384751Z",
          "shell.execute_reply": "2023-04-16T23:14:43.390108Z"
        },
        "trusted": true,
        "id": "U9l1InyKyXCh",
        "outputId": "ff20fa8e-7bcd-4c11-fba6-60ec8ca6730a",
        "colab": {
          "base_uri": "https://localhost:8080/"
        }
      },
      "execution_count": null,
      "outputs": [
        {
          "output_type": "stream",
          "name": "stdout",
          "text": [
            "X:Train, Test data shape: (219274, 784), (54819, 784)\n",
            "Y:Train, Test data shape: (219274, 1), (54819, 1)\n"
          ]
        }
      ]
    },
    {
      "cell_type": "markdown",
      "source": [
        "**Data Preprocessing:Preparing the Training and Testing Dataset**"
      ],
      "metadata": {
        "id": "92iIUZxdyXCh"
      }
    },
    {
      "cell_type": "markdown",
      "source": [
        "## Importance of Data Preprocessing in Deep Learning\n",
        "\n",
        "Data preprocessing is a critical phase in preparing datasets for training and testing in deep learning models. Its significance stems from several key aspects:\n",
        "\n",
        "### 1. Normalization\n",
        "\n",
        "- **Purpose**: Normalization adjusts data to a consistent scale, crucial for enhancing the model's training convergence rate.\n",
        "- **Benefit**: It allows the model to efficiently learn patterns, facilitating faster and more stable training.\n",
        "\n",
        "### 2. Feature Extraction\n",
        "\n",
        "- **Purpose**: To identify and retain only those features that are pertinent to the model's learning process, while eliminating redundancy.\n",
        "- **Benefit**: Streamlines the training process by focusing on relevant data, leading to improved model accuracy and performance.\n",
        "\n",
        "### 3. Handling Missing Data\n",
        "\n",
        "- **Purpose**: Addresses the issue of incomplete datasets by filling in or omitting missing values.\n",
        "- **Benefit**: Ensures the model has a complete and coherent dataset to learn from, which is crucial for accurate predictions.\n",
        "\n",
        "### 4. Reducing Noise\n",
        "\n",
        "- **Purpose**: Involves techniques like blurring or sharpening in image processing to clarify or remove irrelevant details.\n",
        "- **Benefit**: Enhances the quality of the input data, leading to more precise model outputs.\n",
        "\n",
        "### 5. Data Augmentation\n",
        "\n",
        "- **Purpose**: Increases the diversity and quantity of training data through various transformations like rotation, scaling, and flipping.\n",
        "- **Benefit**: Boosts the model's ability to generalize and reduces the likelihood of overfitting by exposing it to a broader range of data scenarios.\n",
        "\n",
        "**In Summary:**\n",
        "\n",
        "Data preprocessing not only refines the input data for optimal model training but also plays a pivotal role in enhancing the model's learning efficiency, accuracy, and robustness against overfitting. This stage sets the foundation for a deep learning model to perform effectively, making it an indispensable part of the machine learning pipeline.\n"
      ],
      "metadata": {
        "id": "SpYAjXGIyXCh"
      }
    },
    {
      "cell_type": "markdown",
      "source": [
        "**Normalize the dataset to values between 0 and 1**"
      ],
      "metadata": {
        "id": "1Wah96mcyXCi"
      }
    },
    {
      "cell_type": "code",
      "source": [
        "X_train = X_train / 255.0\n",
        "X_test = X_test / 255.0\n"
      ],
      "metadata": {
        "execution": {
          "iopub.status.busy": "2023-04-16T23:14:50.852843Z",
          "iopub.execute_input": "2023-04-16T23:14:50.853304Z",
          "iopub.status.idle": "2023-04-16T23:14:51.201218Z",
          "shell.execute_reply.started": "2023-04-16T23:14:50.853263Z",
          "shell.execute_reply": "2023-04-16T23:14:51.200168Z"
        },
        "trusted": true,
        "id": "6Sy4sbr1yXCi"
      },
      "execution_count": null,
      "outputs": []
    },
    {
      "cell_type": "markdown",
      "source": [
        "**Encode y values**"
      ],
      "metadata": {
        "id": "Y61HBFH9yXCi"
      }
    },
    {
      "cell_type": "code",
      "source": [
        "\n",
        "char_enc = OneHotEncoder(sparse=False, handle_unknown='ignore')\n",
        "y_train_encoded = char_enc.fit_transform(y_train.values.reshape(-1, 1))\n",
        "y_test_encoded = char_enc.transform(y_test.values.reshape(-1, 1))\n"
      ],
      "metadata": {
        "execution": {
          "iopub.status.busy": "2023-04-16T23:14:56.366048Z",
          "iopub.execute_input": "2023-04-16T23:14:56.36647Z",
          "iopub.status.idle": "2023-04-16T23:14:56.486735Z",
          "shell.execute_reply.started": "2023-04-16T23:14:56.366433Z",
          "shell.execute_reply": "2023-04-16T23:14:56.485347Z"
        },
        "trusted": true,
        "id": "XjSDV8uzyXCi"
      },
      "execution_count": null,
      "outputs": []
    },
    {
      "cell_type": "markdown",
      "source": [
        "**Reshaping the input data**"
      ],
      "metadata": {
        "id": "nTukWEWRyXCi"
      }
    },
    {
      "cell_type": "code",
      "source": [
        "new_shape = (-1, 28, 28)\n",
        "X_train_norm = np.reshape(X_train.values, new_shape)\n",
        "X_test_norm = np.reshape(X_test.values, new_shape)\n"
      ],
      "metadata": {
        "execution": {
          "iopub.status.busy": "2023-04-16T23:15:02.031667Z",
          "iopub.execute_input": "2023-04-16T23:15:02.032128Z",
          "iopub.status.idle": "2023-04-16T23:15:02.03959Z",
          "shell.execute_reply.started": "2023-04-16T23:15:02.032088Z",
          "shell.execute_reply": "2023-04-16T23:15:02.037833Z"
        },
        "trusted": true,
        "id": "IQ6-aQhcyXCi"
      },
      "execution_count": null,
      "outputs": []
    },
    {
      "cell_type": "markdown",
      "source": [
        "# **Neural Network CNN Model Definition**"
      ],
      "metadata": {
        "id": "ilz8E_eRyXCi"
      }
    },
    {
      "cell_type": "markdown",
      "source": [
        "The purpose of this project is to demonstrate the effectiveness of using CNNs for image classification tasks. The TMNIST dataset consists of a variety of uppercase and lowercase letters, digits, and special characters in the English language. The dataset needs to be preprocessed before being used for training the CNN model. The data is split into training and testing sets, and the pixel values are normalized to a range of 0-1 to make it suitable for use in the neural network.\n",
        "\n",
        "The CNN architecture is designed to take advantage of the spatial correlation between pixels in an image. Convolutional layers apply a set of filters to the input image to produce feature maps that highlight important aspects of the image. Pooling layers are used to reduce the spatial size of the feature maps while preserving important information. The fully connected layers at the end of the network perform the classification task by using the extracted features to make predictions.\n",
        "\n",
        "The model is trained on the training dataset and evaluated on the testing dataset to determine its accuracy. The goal is to achieve an accuracy of greater than 96% on the testing set. The model's performance is visualized using a confusion matrix and classification report. Finally, the model is used to predict the character on a test image and checked for accuracy by comparing it with the actual character."
      ],
      "metadata": {
        "id": "NN0Gb-89yXCj"
      }
    },
    {
      "cell_type": "markdown",
      "source": [
        "**3 layers Basic Neural Network Model**"
      ],
      "metadata": {
        "id": "Az43kNtuyXCj"
      }
    },
    {
      "cell_type": "markdown",
      "source": [
        "This is a basic 3-layer neural network model with an input layer, a hidden layer for processing the input data, and an output layer for producing the final prediction. It is commonly used for classification and regression tasks, and its performance is dependent on the number of neurons in the hidden layer, the activation function used, and the optimization algorithm."
      ],
      "metadata": {
        "id": "fuWoKmxhyXCj"
      }
    },
    {
      "cell_type": "code",
      "source": [
        "#Defining the model\n",
        "model = Sequential([\n",
        "    Flatten(input_shape=(28, 28)),\n",
        "    Dense(512, activation='relu'),\n",
        "    Dense(128, activation='relu'),\n",
        "    Dense(32, activation='relu'),\n",
        "    Dense(num_of_unique_chars, activation='softmax')\n",
        "])\n",
        "opt = Adam()\n",
        "model.compile(optimizer=opt, loss='categorical_crossentropy', metrics=['accuracy'])\n",
        "model.summary()"
      ],
      "metadata": {
        "execution": {
          "iopub.status.busy": "2023-04-16T23:15:10.606924Z",
          "iopub.execute_input": "2023-04-16T23:15:10.607364Z",
          "iopub.status.idle": "2023-04-16T23:15:10.880271Z",
          "shell.execute_reply.started": "2023-04-16T23:15:10.607328Z",
          "shell.execute_reply": "2023-04-16T23:15:10.878895Z"
        },
        "trusted": true,
        "id": "HjrnNuuYyXCj",
        "outputId": "d525f44d-6cf8-4527-8e99-9db05732c589",
        "colab": {
          "base_uri": "https://localhost:8080/"
        }
      },
      "execution_count": null,
      "outputs": [
        {
          "output_type": "stream",
          "name": "stdout",
          "text": [
            "Model: \"sequential\"\n",
            "_________________________________________________________________\n",
            " Layer (type)                Output Shape              Param #   \n",
            "=================================================================\n",
            " flatten (Flatten)           (None, 784)               0         \n",
            "                                                                 \n",
            " dense (Dense)               (None, 512)               401920    \n",
            "                                                                 \n",
            " dense_1 (Dense)             (None, 128)               65664     \n",
            "                                                                 \n",
            " dense_2 (Dense)             (None, 32)                4128      \n",
            "                                                                 \n",
            " dense_3 (Dense)             (None, 94)                3102      \n",
            "                                                                 \n",
            "=================================================================\n",
            "Total params: 474814 (1.81 MB)\n",
            "Trainable params: 474814 (1.81 MB)\n",
            "Non-trainable params: 0 (0.00 Byte)\n",
            "_________________________________________________________________\n"
          ]
        }
      ]
    },
    {
      "cell_type": "markdown",
      "source": [
        "**Fitting the basic model**"
      ],
      "metadata": {
        "id": "jyLbsW1wyXCv"
      }
    },
    {
      "cell_type": "code",
      "source": [
        "model_history = model.fit(X_train_norm, y_train_encoded, epochs=20, validation_data=(X_test_norm, y_test_encoded), verbose=2, batch_size=128)"
      ],
      "metadata": {
        "execution": {
          "iopub.status.busy": "2023-04-16T23:15:20.608529Z",
          "iopub.execute_input": "2023-04-16T23:15:20.609001Z",
          "iopub.status.idle": "2023-04-16T23:20:37.972677Z",
          "shell.execute_reply.started": "2023-04-16T23:15:20.608951Z",
          "shell.execute_reply": "2023-04-16T23:20:37.971284Z"
        },
        "trusted": true,
        "id": "G6nnY6lEyXCv",
        "outputId": "d3986584-0d42-431f-e7ce-ba8a228f4da1",
        "colab": {
          "base_uri": "https://localhost:8080/"
        }
      },
      "execution_count": null,
      "outputs": [
        {
          "output_type": "stream",
          "name": "stdout",
          "text": [
            "Epoch 1/20\n",
            "1714/1714 - 22s - loss: 0.8024 - accuracy: 0.7888 - val_loss: 0.4954 - val_accuracy: 0.8511 - 22s/epoch - 13ms/step\n",
            "Epoch 2/20\n",
            "1714/1714 - 21s - loss: 0.4391 - accuracy: 0.8646 - val_loss: 0.4233 - val_accuracy: 0.8647 - 21s/epoch - 12ms/step\n",
            "Epoch 3/20\n",
            "1714/1714 - 21s - loss: 0.3715 - accuracy: 0.8809 - val_loss: 0.3977 - val_accuracy: 0.8738 - 21s/epoch - 12ms/step\n",
            "Epoch 4/20\n",
            "1714/1714 - 19s - loss: 0.3271 - accuracy: 0.8920 - val_loss: 0.3644 - val_accuracy: 0.8821 - 19s/epoch - 11ms/step\n",
            "Epoch 5/20\n",
            "1714/1714 - 20s - loss: 0.2951 - accuracy: 0.9008 - val_loss: 0.3372 - val_accuracy: 0.8952 - 20s/epoch - 12ms/step\n",
            "Epoch 6/20\n",
            "1714/1714 - 21s - loss: 0.2676 - accuracy: 0.9089 - val_loss: 0.3357 - val_accuracy: 0.8958 - 21s/epoch - 12ms/step\n",
            "Epoch 7/20\n",
            "1714/1714 - 20s - loss: 0.2461 - accuracy: 0.9145 - val_loss: 0.3210 - val_accuracy: 0.9016 - 20s/epoch - 12ms/step\n",
            "Epoch 8/20\n",
            "1714/1714 - 21s - loss: 0.2292 - accuracy: 0.9199 - val_loss: 0.3237 - val_accuracy: 0.9045 - 21s/epoch - 12ms/step\n",
            "Epoch 9/20\n",
            "1714/1714 - 20s - loss: 0.2138 - accuracy: 0.9244 - val_loss: 0.3321 - val_accuracy: 0.9001 - 20s/epoch - 12ms/step\n",
            "Epoch 10/20\n",
            "1714/1714 - 19s - loss: 0.2005 - accuracy: 0.9290 - val_loss: 0.3145 - val_accuracy: 0.9089 - 19s/epoch - 11ms/step\n",
            "Epoch 11/20\n",
            "1714/1714 - 21s - loss: 0.1899 - accuracy: 0.9321 - val_loss: 0.3267 - val_accuracy: 0.9069 - 21s/epoch - 12ms/step\n",
            "Epoch 12/20\n",
            "1714/1714 - 23s - loss: 0.1814 - accuracy: 0.9340 - val_loss: 0.3286 - val_accuracy: 0.9084 - 23s/epoch - 13ms/step\n",
            "Epoch 13/20\n",
            "1714/1714 - 21s - loss: 0.1729 - accuracy: 0.9374 - val_loss: 0.3281 - val_accuracy: 0.9111 - 21s/epoch - 12ms/step\n",
            "Epoch 14/20\n",
            "1714/1714 - 20s - loss: 0.1668 - accuracy: 0.9392 - val_loss: 0.3350 - val_accuracy: 0.9078 - 20s/epoch - 12ms/step\n",
            "Epoch 15/20\n",
            "1714/1714 - 21s - loss: 0.1603 - accuracy: 0.9412 - val_loss: 0.3439 - val_accuracy: 0.9096 - 21s/epoch - 12ms/step\n",
            "Epoch 16/20\n",
            "1714/1714 - 21s - loss: 0.1540 - accuracy: 0.9434 - val_loss: 0.3500 - val_accuracy: 0.9094 - 21s/epoch - 12ms/step\n",
            "Epoch 17/20\n",
            "1714/1714 - 20s - loss: 0.1491 - accuracy: 0.9451 - val_loss: 0.3535 - val_accuracy: 0.9105 - 20s/epoch - 12ms/step\n",
            "Epoch 18/20\n",
            "1714/1714 - 21s - loss: 0.1448 - accuracy: 0.9465 - val_loss: 0.3840 - val_accuracy: 0.9086 - 21s/epoch - 12ms/step\n",
            "Epoch 19/20\n",
            "1714/1714 - 20s - loss: 0.1409 - accuracy: 0.9479 - val_loss: 0.3662 - val_accuracy: 0.9106 - 20s/epoch - 12ms/step\n",
            "Epoch 20/20\n",
            "1714/1714 - 20s - loss: 0.1379 - accuracy: 0.9485 - val_loss: 0.3761 - val_accuracy: 0.9120 - 20s/epoch - 12ms/step\n"
          ]
        }
      ]
    },
    {
      "cell_type": "code",
      "source": [
        "# Plotting Results\n",
        "fig, axs = plt.subplots(1, 2, figsize=(14, 6))\n",
        "\n",
        "epochs = np.arange(20)\n",
        "\n",
        "# Plot accuracy vs epochs\n",
        "axs[0].set_title('Accuracy vs Epochs')\n",
        "axs[0].plot(epochs, model_history.history['accuracy'], color='green', label='train')\n",
        "axs[0].plot(epochs, model_history.history['val_accuracy'], color='pink', label='test')\n",
        "axs[0].set_xlabel('Epochs')\n",
        "axs[0].set_ylabel('Accuracy')\n",
        "axs[0].legend()\n",
        "\n",
        "# Plot loss vs epochs\n",
        "axs[1].set_title('Loss vs Epochs')\n",
        "axs[1].plot(epochs, model_history.history['loss'], color='green', label='train')\n",
        "axs[1].plot(epochs, model_history.history['val_loss'], color='pink', label='test')\n",
        "axs[1].set_xlabel('Epochs')\n",
        "axs[1].set_ylabel('Loss')\n",
        "axs[1].legend()\n",
        "\n",
        "plt.show()\n"
      ],
      "metadata": {
        "execution": {
          "iopub.status.busy": "2023-04-17T00:59:08.624883Z",
          "iopub.execute_input": "2023-04-17T00:59:08.626059Z",
          "iopub.status.idle": "2023-04-17T00:59:09.055969Z",
          "shell.execute_reply.started": "2023-04-17T00:59:08.625996Z",
          "shell.execute_reply": "2023-04-17T00:59:09.055034Z"
        },
        "trusted": true,
        "id": "s67U47SRyXCv",
        "outputId": "0eee8e4d-2192-4119-f97a-2d0fc4409d06",
        "colab": {
          "base_uri": "https://localhost:8080/",
          "height": 564
        }
      },
      "execution_count": null,
      "outputs": [
        {
          "output_type": "display_data",
          "data": {
            "text/plain": [
              "<Figure size 1400x600 with 2 Axes>"
            ],
            "image/png": "[encoded data removed]"
          },
          "metadata": {}
        }
      ]
    },
    {
      "cell_type": "markdown",
      "source": [
        "**CNN Model - Convolutional Neural Network with 2 conv2D and MaxPooling2D Layers**"
      ],
      "metadata": {
        "id": "a-lXF_BHyXCv"
      }
    },
    {
      "cell_type": "code",
      "source": [
        "cnn_model = Sequential([\n",
        "    Conv2D(128, (5, 5), activation='relu', input_shape=(28, 28,1)),\n",
        "    MaxPooling2D((2, 2)),\n",
        "    Conv2D(64, (3, 3), activation='relu'),\n",
        "    MaxPooling2D((2, 2)),\n",
        "    Flatten(),\n",
        "    Dense(64, activation='relu'),\n",
        "    Dense(32, activation='relu'),\n",
        "    Dense(num_of_unique_chars, activation='softmax')\n",
        "])\n",
        "opt = Adam()\n",
        "cnn_model.compile(optimizer=opt, loss='categorical_crossentropy', metrics=['accuracy'])\n",
        "cnn_model.summary()\n"
      ],
      "metadata": {
        "execution": {
          "iopub.status.busy": "2023-04-16T23:21:13.632849Z",
          "iopub.execute_input": "2023-04-16T23:21:13.633296Z",
          "iopub.status.idle": "2023-04-16T23:21:13.781679Z",
          "shell.execute_reply.started": "2023-04-16T23:21:13.633257Z",
          "shell.execute_reply": "2023-04-16T23:21:13.780238Z"
        },
        "trusted": true,
        "id": "1TT_klc6yXCv",
        "outputId": "b5a313d3-58f0-4ad3-f116-bc32d454b4d3",
        "colab": {
          "base_uri": "https://localhost:8080/"
        }
      },
      "execution_count": null,
      "outputs": [
        {
          "output_type": "stream",
          "name": "stdout",
          "text": [
            "Model: \"sequential_1\"\n",
            "_________________________________________________________________\n",
            " Layer (type)                Output Shape              Param #   \n",
            "=================================================================\n",
            " conv2d (Conv2D)             (None, 24, 24, 128)       3328      \n",
            "                                                                 \n",
            " max_pooling2d (MaxPooling2  (None, 12, 12, 128)       0         \n",
            " D)                                                              \n",
            "                                                                 \n",
            " conv2d_1 (Conv2D)           (None, 10, 10, 64)        73792     \n",
            "                                                                 \n",
            " max_pooling2d_1 (MaxPoolin  (None, 5, 5, 64)          0         \n",
            " g2D)                                                            \n",
            "                                                                 \n",
            " flatten_1 (Flatten)         (None, 1600)              0         \n",
            "                                                                 \n",
            " dense_4 (Dense)             (None, 64)                102464    \n",
            "                                                                 \n",
            " dense_5 (Dense)             (None, 32)                2080      \n",
            "                                                                 \n",
            " dense_6 (Dense)             (None, 94)                3102      \n",
            "                                                                 \n",
            "=================================================================\n",
            "Total params: 184766 (721.74 KB)\n",
            "Trainable params: 184766 (721.74 KB)\n",
            "Non-trainable params: 0 (0.00 Byte)\n",
            "_________________________________________________________________\n"
          ]
        }
      ]
    },
    {
      "cell_type": "markdown",
      "source": [
        "**Normalization of data for CNN model**"
      ],
      "metadata": {
        "id": "gCKKP_qpyXCv"
      }
    },
    {
      "cell_type": "code",
      "source": [
        "X_train_norm = np.expand_dims(X_train_norm, axis=-1)\n",
        "X_test_norm = np.expand_dims(X_test_norm, axis=-1)\n"
      ],
      "metadata": {
        "execution": {
          "iopub.status.busy": "2023-04-16T23:21:22.880811Z",
          "iopub.execute_input": "2023-04-16T23:21:22.88132Z",
          "iopub.status.idle": "2023-04-16T23:21:22.888119Z",
          "shell.execute_reply.started": "2023-04-16T23:21:22.881273Z",
          "shell.execute_reply": "2023-04-16T23:21:22.886582Z"
        },
        "trusted": true,
        "id": "JTS99A4uyXCv"
      },
      "execution_count": null,
      "outputs": []
    },
    {
      "cell_type": "markdown",
      "source": [
        "**Model fitting**"
      ],
      "metadata": {
        "id": "dJhuboxoyXCw"
      }
    },
    {
      "cell_type": "code",
      "source": [
        "model_history2=cnn_model.fit(X_train_norm, y_train_encoded, epochs=20, validation_data=(X_test_norm, y_test_encoded), verbose=2,batch_size=128)"
      ],
      "metadata": {
        "execution": {
          "iopub.status.busy": "2023-04-16T23:21:39.436579Z",
          "iopub.execute_input": "2023-04-16T23:21:39.437645Z",
          "iopub.status.idle": "2023-04-17T00:59:04.156536Z",
          "shell.execute_reply.started": "2023-04-16T23:21:39.437594Z",
          "shell.execute_reply": "2023-04-17T00:59:04.154845Z"
        },
        "trusted": true,
        "id": "RWekkelIyXCw",
        "outputId": "53ac3ff0-bc3b-483d-c382-928c8422e71c",
        "colab": {
          "base_uri": "https://localhost:8080/"
        }
      },
      "execution_count": null,
      "outputs": [
        {
          "output_type": "stream",
          "name": "stdout",
          "text": [
            "Epoch 1/20\n",
            "1714/1714 - 476s - loss: 0.7599 - accuracy: 0.7942 - val_loss: 0.4375 - val_accuracy: 0.8628 - 476s/epoch - 278ms/step\n",
            "Epoch 2/20\n",
            "1714/1714 - 468s - loss: 0.3400 - accuracy: 0.8969 - val_loss: 0.3183 - val_accuracy: 0.9031 - 468s/epoch - 273ms/step\n",
            "Epoch 3/20\n",
            "1714/1714 - 482s - loss: 0.2718 - accuracy: 0.9166 - val_loss: 0.2645 - val_accuracy: 0.9205 - 482s/epoch - 281ms/step\n",
            "Epoch 4/20\n",
            "1714/1714 - 480s - loss: 0.2361 - accuracy: 0.9261 - val_loss: 0.2370 - val_accuracy: 0.9270 - 480s/epoch - 280ms/step\n",
            "Epoch 5/20\n",
            "1714/1714 - 465s - loss: 0.2134 - accuracy: 0.9315 - val_loss: 0.2349 - val_accuracy: 0.9269 - 465s/epoch - 271ms/step\n",
            "Epoch 6/20\n",
            "1714/1714 - 469s - loss: 0.1959 - accuracy: 0.9357 - val_loss: 0.2287 - val_accuracy: 0.9279 - 469s/epoch - 273ms/step\n",
            "Epoch 7/20\n",
            "1714/1714 - 475s - loss: 0.1817 - accuracy: 0.9396 - val_loss: 0.2225 - val_accuracy: 0.9289 - 475s/epoch - 277ms/step\n",
            "Epoch 8/20\n",
            "1714/1714 - 477s - loss: 0.1694 - accuracy: 0.9428 - val_loss: 0.2222 - val_accuracy: 0.9304 - 477s/epoch - 278ms/step\n",
            "Epoch 9/20\n",
            "1714/1714 - 477s - loss: 0.1601 - accuracy: 0.9450 - val_loss: 0.2165 - val_accuracy: 0.9328 - 477s/epoch - 278ms/step\n",
            "Epoch 10/20\n",
            "1714/1714 - 474s - loss: 0.1515 - accuracy: 0.9475 - val_loss: 0.2193 - val_accuracy: 0.9347 - 474s/epoch - 276ms/step\n",
            "Epoch 11/20\n",
            "1714/1714 - 474s - loss: 0.1435 - accuracy: 0.9494 - val_loss: 0.2150 - val_accuracy: 0.9368 - 474s/epoch - 277ms/step\n",
            "Epoch 12/20\n",
            "1714/1714 - 477s - loss: 0.1368 - accuracy: 0.9518 - val_loss: 0.2191 - val_accuracy: 0.9340 - 477s/epoch - 278ms/step\n",
            "Epoch 13/20\n",
            "1714/1714 - 473s - loss: 0.1317 - accuracy: 0.9530 - val_loss: 0.2206 - val_accuracy: 0.9374 - 473s/epoch - 276ms/step\n",
            "Epoch 14/20\n",
            "1714/1714 - 475s - loss: 0.1258 - accuracy: 0.9549 - val_loss: 0.2263 - val_accuracy: 0.9327 - 475s/epoch - 277ms/step\n",
            "Epoch 15/20\n",
            "1714/1714 - 477s - loss: 0.1210 - accuracy: 0.9561 - val_loss: 0.2328 - val_accuracy: 0.9347 - 477s/epoch - 278ms/step\n",
            "Epoch 16/20\n",
            "1714/1714 - 482s - loss: 0.1162 - accuracy: 0.9578 - val_loss: 0.2299 - val_accuracy: 0.9367 - 482s/epoch - 281ms/step\n",
            "Epoch 17/20\n",
            "1714/1714 - 473s - loss: 0.1128 - accuracy: 0.9587 - val_loss: 0.2344 - val_accuracy: 0.9371 - 473s/epoch - 276ms/step\n",
            "Epoch 18/20\n",
            "1714/1714 - 472s - loss: 0.1092 - accuracy: 0.9598 - val_loss: 0.2385 - val_accuracy: 0.9356 - 472s/epoch - 275ms/step\n",
            "Epoch 19/20\n",
            "1714/1714 - 470s - loss: 0.1061 - accuracy: 0.9608 - val_loss: 0.2504 - val_accuracy: 0.9346 - 470s/epoch - 274ms/step\n",
            "Epoch 20/20\n",
            "1714/1714 - 471s - loss: 0.1033 - accuracy: 0.9618 - val_loss: 0.2502 - val_accuracy: 0.9341 - 471s/epoch - 275ms/step\n"
          ]
        }
      ]
    },
    {
      "cell_type": "markdown",
      "source": [
        "**Plotting the results**"
      ],
      "metadata": {
        "id": "S212THl4yXCw"
      }
    },
    {
      "cell_type": "code",
      "source": [
        "fig, axs = plt.subplots(1, 2, figsize=(14, 6))\n",
        "\n",
        "epochs = np.arange(20)\n",
        "\n",
        "axs[0].set_title('Accuracy vs Epochs')\n",
        "axs[0].plot(epochs, model_history.history['accuracy'], label='train', color='green')\n",
        "axs[0].plot(epochs, model_history.history['val_accuracy'], label='test', color='magenta')\n",
        "axs[0].set_ylabel('Accuracy')\n",
        "axs[0].legend()\n",
        "\n",
        "axs[1].set_title('Loss vs Epochs')\n",
        "axs[1].plot(epochs, model_history.history['loss'], label='train', color='blue')\n",
        "axs[1].plot(epochs, model_history.history['val_loss'], label='test', color='magenta')\n",
        "axs[1].set_ylabel('Loss')\n",
        "axs[1].legend()\n",
        "\n",
        "plt.show()\n"
      ],
      "metadata": {
        "execution": {
          "iopub.status.busy": "2023-04-17T00:59:58.63139Z",
          "iopub.execute_input": "2023-04-17T00:59:58.631895Z",
          "iopub.status.idle": "2023-04-17T00:59:59.006769Z",
          "shell.execute_reply.started": "2023-04-17T00:59:58.631816Z",
          "shell.execute_reply": "2023-04-17T00:59:59.005223Z"
        },
        "trusted": true,
        "id": "1E5GdUltyXCw",
        "outputId": "3a586dec-5677-42f4-accf-a0428c677999",
        "colab": {
          "base_uri": "https://localhost:8080/",
          "height": 545
        }
      },
      "execution_count": null,
      "outputs": [
        {
          "output_type": "display_data",
          "data": {
            "text/plain": [
              "<Figure size 1400x600 with 2 Axes>"
            ],
            "image/png": "[encoded data removed]"
          },
          "metadata": {}
        }
      ]
    },
    {
      "cell_type": "markdown",
      "source": [
        "# **CONCLUSION**\n",
        "\n",
        "* **The dataset includes a large number of images (281,000), which are used for\n",
        "  training machine learning models for character recognition.**\n",
        "\n",
        "* The model achieved a final **accuracy** of **96.18%** on the **training set**.\n",
        "\n",
        "\n",
        "\n",
        "The data is preprocessed by excluding non-numeric columns, converting columns to numeric while coercing errors to NaN, handling NaNs by filling them with zeros, and normalizing pixel values by scaling them between 0 and 1\n",
        "\n",
        "In conclusion, the comparative study of a basic 3-layer neural network and a CNN model on classification tasks reveals several key points:\n",
        "\n",
        "- **Basic Neural Network Performance**:\n",
        "  - Showed consistent improvement over 20 epochs.\n",
        "  - Achieved final training and validation accuracies of approximately 94.85% and 91.20%, respectively.\n",
        "  \n",
        "\n",
        "- **CNN Model Performance**:\n",
        "  - Demonstrated superior accuracy and stability in loss values.\n",
        "  - Reached higher training and validation accuracies of about 96.18% and 93.41%, respectively.\n",
        "  - Utilized convolutional and pooling layers effectively for enhanced feature extraction and learning.\n",
        "\n",
        "- **Importance of Architecture**:\n",
        "  - The comparison highlights the significance of choosing the right architecture for neural network performance.\n",
        "  - CNN’s ability to handle spatial hierarchies in data results in better management of complex patterns, outperforming the basic neural network model.\n",
        "\n",
        "The findings underscore the necessity of monitoring both accuracy and loss metrics during training to mitigate overfitting and enhance the model’s generalization capabilities. Ultimately, the choice of neural network architecture significantly influences the model's performance and effectiveness in addressing classification challenges.\n"
      ],
      "metadata": {
        "id": "u7aJsgJ8npXH"
      }
    },
    {
      "cell_type": "markdown",
      "source": [
        "# **CITATIONS**\n",
        "\n",
        "* https://www.kaggle.com/datasets/nikbearbrown/tmnist-alphabet-94-characters\n",
        "* https://www.kaggle.com/datasets/nikbearbrown/\n",
        "* https://chat.openai.com/\n",
        "* https://www.kaggle.com/code/patilriya/tmnist-alphabet-above-90-accuracy\n",
        "* https://www.kaggle.com/datasets/nikbearbrown/tmnist-alphabet-94-characters/code\n",
        "\n",
        "\n"
      ],
      "metadata": {
        "id": "HBEXTDfEyXCx"
      }
    },
    {
      "cell_type": "markdown",
      "source": [
        "# **LICENSE**\n",
        "\n",
        "MIT License\n",
        "\n",
        "Copyright (c) 2024 sakhareni\n",
        "\n",
        "Permission is hereby granted, free of charge, to any person obtaining a copy of this software and associated documentation files (the \"Software\"), to deal in the Software without restriction, including without limitation the rights to use, copy, modify, merge, publish, distribute, sublicense, and/or sell copies of the Software, and to permit persons to whom the Software is furnished to do so, subject to the following conditions:\n",
        "\n",
        "The above copyright notice and this permission notice shall be included in all copies or substantial portions of the Software.\n",
        "\n",
        "THE SOFTWARE IS PROVIDED \"AS IS\", WITHOUT WARRANTY OF ANY KIND, EXPRESS OR IMPLIED, INCLUDING BUT NOT LIMITED TO THE WARRANTIES OF MERCHANTABILITY, FITNESS FOR A PARTICULAR PURPOSE AND NONINFRINGEMENT. IN NO EVENT SHALL THE AUTHORS OR COPYRIGHT HOLDERS BE LIABLE FOR ANY CLAIM, DAMAGES OR OTHER LIABILITY, WHETHER IN AN ACTION OF CONTRACT, TORT OR OTHERWISE, ARISING FROM, OUT OF OR IN CONNECTION WITH THE SOFTWARE OR THE USE OR OTHER DEALINGS IN THE SOFTWARE."
      ],
      "metadata": {
        "id": "jGp1QtDHmVKP"
      }
    }
  ]
}